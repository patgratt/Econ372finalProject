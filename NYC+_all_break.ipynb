{
 "cells": [
  {
   "cell_type": "code",
   "execution_count": 1,
   "id": "97990454",
   "metadata": {},
   "outputs": [],
   "source": [
    "# Script name: NYC+ All Break\n",
    "# Author: Patrick Burke\n",
    "# Date Created: 4/11/2022\n",
    "# --------------------------\n",
    "# Notes:\n",
    "# ---------------------------\n",
    "\n",
    "# Packages\n",
    "import numpy as np\n",
    "import pandas as pd\n",
    "import statsmodels.api as sm\n",
    "import statsmodels.formula.api as smf\n",
    "from scipy import stats\n",
    "import json"
   ]
  },
  {
   "cell_type": "code",
   "execution_count": 2,
   "id": "fc63f724",
   "metadata": {},
   "outputs": [
    {
     "name": "stderr",
     "output_type": "stream",
     "text": [
      "/Users/patrickburke/opt/anaconda3/lib/python3.9/site-packages/IPython/core/interactiveshell.py:3444: DtypeWarning: Columns (3,10) have mixed types.Specify dtype option on import or set low_memory=False.\n",
      "  exec(code_obj, self.user_global_ns, self.user_ns)\n"
     ]
    }
   ],
   "source": [
    "elmhurst = pd.read_csv('/Users/patrickburke/OneDrive - Emory University/Econ372/Final Project/Queens/NYC Health + Hospitals : Elmhurst/132655001_Elmhurst Hospital Center_standardcharges.csv')"
   ]
  },
  {
   "cell_type": "code",
   "execution_count": 3,
   "id": "ed5bfb36",
   "metadata": {},
   "outputs": [],
   "source": [
    "jacobi = pd.read_csv('/Users/patrickburke/OneDrive - Emory University/Econ372/Final Project/Bronx/NYC Health + Hospitals : Jacobi/132655001_Jacobi Medical Center_standardcharges.csv')"
   ]
  },
  {
   "cell_type": "code",
   "execution_count": 4,
   "id": "18e2bc06",
   "metadata": {},
   "outputs": [],
   "source": [
    "NCbronx = pd.read_csv('/Users/patrickburke/OneDrive - Emory University/Econ372/Final Project/Bronx/NYC Health + Hospitals : North Central Bronx/132655001_North Central Bronx Hospital_standardcharges.csv')"
   ]
  },
  {
   "cell_type": "code",
   "execution_count": 5,
   "id": "507aa31a",
   "metadata": {},
   "outputs": [],
   "source": [
    "lincoln = pd.read_csv('/Users/patrickburke/OneDrive - Emory University/Econ372/Final Project/Bronx/NYC+ Lincoln/132655001_Lincoln Medical Center_standardcharges.csv')"
   ]
  },
  {
   "cell_type": "code",
   "execution_count": 6,
   "id": "46b6dc5c",
   "metadata": {},
   "outputs": [],
   "source": [
    "code_list = ['MS-DRG V38 (FY 2021) 392', 'MS-DRG V38 (FY 2021) 291', 'MS-DRG V38 (FY 2021) 690',\\\n",
    "                 'MS-DRG V38 (FY 2021) 871', 'MS-DRG V38 (FY 2021) 312']"
   ]
  },
  {
   "cell_type": "code",
   "execution_count": 7,
   "id": "c827eaeb",
   "metadata": {},
   "outputs": [],
   "source": [
    "elmhurst = elmhurst[elmhurst['Code'].isin(code_list)]\n",
    "jacobi = jacobi[jacobi['Code'].isin(code_list)]\n",
    "NCbronx = NCbronx[NCbronx['Code'].isin(code_list)]\n",
    "lincoln = lincoln[lincoln['Code'].isin(code_list)]"
   ]
  },
  {
   "cell_type": "code",
   "execution_count": 8,
   "id": "4c3f916d",
   "metadata": {},
   "outputs": [],
   "source": [
    "elmhurst = elmhurst[['Procedure','Procedure Description','Plan(s)','Payer','IP Negotiated Charge']]\n",
    "jacobi = jacobi[['Procedure','Procedure Description','Plan(s)','Payer','IP Negotiated Charge']]\n",
    "NCbronx = NCbronx[['Procedure','Procedure Description','Plan(s)','Payer','IP Negotiated Charge']]\n",
    "lincoln = lincoln[['Procedure','Procedure Description','Plan(s)','Payer','IP Negotiated Charge']]"
   ]
  },
  {
   "cell_type": "code",
   "execution_count": 9,
   "id": "7a013e76",
   "metadata": {},
   "outputs": [],
   "source": [
    "elmhurst = elmhurst.rename(columns={'IP Negotiated Charge':'NegotiatedPayment','Plan(s)':'Plan'})\n",
    "jacobi = jacobi.rename(columns={'IP Negotiated Charge':'NegotiatedPayment','Plan(s)':'Plan'})\n",
    "NCbronx = NCbronx.rename(columns={'IP Negotiated Charge':'NegotiatedPayment','Plan(s)':'Plan'})\n",
    "lincoln = lincoln.rename(columns={'IP Negotiated Charge':'NegotiatedPayment','Plan(s)':'Plan'})"
   ]
  },
  {
   "cell_type": "code",
   "execution_count": 10,
   "id": "f4c8f8df",
   "metadata": {},
   "outputs": [],
   "source": [
    "plan_list = ['EMBLEMHEALTH HIP ESSENTIAL 1&2 [506008]','1199SEIU BENEFIT FUND [514001]',\\\n",
    "                 'AETNA BETTER HEALTH MLTC [312000]','UHC OPTIONS [509010]']"
   ]
  },
  {
   "cell_type": "code",
   "execution_count": 11,
   "id": "ec80b7a7",
   "metadata": {},
   "outputs": [],
   "source": [
    "elmhurst = elmhurst[elmhurst['Plan'].isin(plan_list)]\n",
    "jacobi = jacobi[jacobi['Plan'].isin(plan_list)]\n",
    "NCbronx = NCbronx[NCbronx['Plan'].isin(plan_list)]\n",
    "lincoln = lincoln[lincoln['Plan'].isin(plan_list)]"
   ]
  },
  {
   "cell_type": "code",
   "execution_count": 12,
   "id": "c07618b7",
   "metadata": {},
   "outputs": [],
   "source": [
    "elmhurst['NegotiatedPayment'] = elmhurst['NegotiatedPayment'].str.replace(',', '').astype(float)\n",
    "jacobi['NegotiatedPayment'] = jacobi['NegotiatedPayment'].str.replace(',', '').astype(float)\n",
    "NCbronx['NegotiatedPayment'] = NCbronx['NegotiatedPayment'].str.replace(',', '').astype(float)\n",
    "lincoln['NegotiatedPayment'] = lincoln['NegotiatedPayment'].str.replace(',', '').astype(float)"
   ]
  },
  {
   "cell_type": "code",
   "execution_count": 13,
   "id": "a5f04fd9",
   "metadata": {},
   "outputs": [],
   "source": [
    "elmhurst = elmhurst.groupby(['Procedure'],as_index=False).NegotiatedPayment.apply(lambda x: np.mean(x))\n",
    "jacobi= jacobi.groupby(['Procedure'],as_index=False).NegotiatedPayment.apply(lambda x: np.mean(x))\n",
    "NCbronx = NCbronx.groupby(['Procedure'],as_index=False).NegotiatedPayment.apply(lambda x: np.mean(x))\n",
    "lincoln = lincoln.groupby(['Procedure'],as_index=False).NegotiatedPayment.apply(lambda x: np.mean(x))"
   ]
  },
  {
   "cell_type": "code",
   "execution_count": 14,
   "id": "e0da9c78",
   "metadata": {},
   "outputs": [
    {
     "data": {
      "text/html": [
       "<div>\n",
       "<style scoped>\n",
       "    .dataframe tbody tr th:only-of-type {\n",
       "        vertical-align: middle;\n",
       "    }\n",
       "\n",
       "    .dataframe tbody tr th {\n",
       "        vertical-align: top;\n",
       "    }\n",
       "\n",
       "    .dataframe thead th {\n",
       "        text-align: right;\n",
       "    }\n",
       "</style>\n",
       "<table border=\"1\" class=\"dataframe\">\n",
       "  <thead>\n",
       "    <tr style=\"text-align: right;\">\n",
       "      <th></th>\n",
       "      <th>Procedure</th>\n",
       "      <th>NegotiatedPayment</th>\n",
       "    </tr>\n",
       "  </thead>\n",
       "  <tbody>\n",
       "    <tr>\n",
       "      <th>0</th>\n",
       "      <td>MS291</td>\n",
       "      <td>19632.4000</td>\n",
       "    </tr>\n",
       "    <tr>\n",
       "      <th>1</th>\n",
       "      <td>MS312</td>\n",
       "      <td>4973.1000</td>\n",
       "    </tr>\n",
       "    <tr>\n",
       "      <th>2</th>\n",
       "      <td>MS392</td>\n",
       "      <td>5072.5325</td>\n",
       "    </tr>\n",
       "    <tr>\n",
       "      <th>3</th>\n",
       "      <td>MS690</td>\n",
       "      <td>5651.4900</td>\n",
       "    </tr>\n",
       "    <tr>\n",
       "      <th>4</th>\n",
       "      <td>MS871</td>\n",
       "      <td>52061.7625</td>\n",
       "    </tr>\n",
       "  </tbody>\n",
       "</table>\n",
       "</div>"
      ],
      "text/plain": [
       "  Procedure  NegotiatedPayment\n",
       "0     MS291         19632.4000\n",
       "1     MS312          4973.1000\n",
       "2     MS392          5072.5325\n",
       "3     MS690          5651.4900\n",
       "4     MS871         52061.7625"
      ]
     },
     "execution_count": 14,
     "metadata": {},
     "output_type": "execute_result"
    }
   ],
   "source": [
    "elmhurst"
   ]
  },
  {
   "cell_type": "code",
   "execution_count": 22,
   "id": "e02509a1",
   "metadata": {},
   "outputs": [],
   "source": [
    "elmhurst.to_excel('/Users/patrickburke/OneDrive - Emory University/Econ372/Final Project/Queens/NYC Health + Hospitals : Elmhurst/elmhurstavg2.xlsx')"
   ]
  },
  {
   "cell_type": "code",
   "execution_count": 16,
   "id": "b1e8baec",
   "metadata": {},
   "outputs": [
    {
     "data": {
      "text/html": [
       "<div>\n",
       "<style scoped>\n",
       "    .dataframe tbody tr th:only-of-type {\n",
       "        vertical-align: middle;\n",
       "    }\n",
       "\n",
       "    .dataframe tbody tr th {\n",
       "        vertical-align: top;\n",
       "    }\n",
       "\n",
       "    .dataframe thead th {\n",
       "        text-align: right;\n",
       "    }\n",
       "</style>\n",
       "<table border=\"1\" class=\"dataframe\">\n",
       "  <thead>\n",
       "    <tr style=\"text-align: right;\">\n",
       "      <th></th>\n",
       "      <th>Procedure</th>\n",
       "      <th>NegotiatedPayment</th>\n",
       "    </tr>\n",
       "  </thead>\n",
       "  <tbody>\n",
       "    <tr>\n",
       "      <th>0</th>\n",
       "      <td>MS291</td>\n",
       "      <td>19917.5450</td>\n",
       "    </tr>\n",
       "    <tr>\n",
       "      <th>1</th>\n",
       "      <td>MS312</td>\n",
       "      <td>5160.2850</td>\n",
       "    </tr>\n",
       "    <tr>\n",
       "      <th>2</th>\n",
       "      <td>MS392</td>\n",
       "      <td>5063.1550</td>\n",
       "    </tr>\n",
       "    <tr>\n",
       "      <th>3</th>\n",
       "      <td>MS690</td>\n",
       "      <td>6199.1150</td>\n",
       "    </tr>\n",
       "    <tr>\n",
       "      <th>4</th>\n",
       "      <td>MS871</td>\n",
       "      <td>26395.5025</td>\n",
       "    </tr>\n",
       "  </tbody>\n",
       "</table>\n",
       "</div>"
      ],
      "text/plain": [
       "  Procedure  NegotiatedPayment\n",
       "0     MS291         19917.5450\n",
       "1     MS312          5160.2850\n",
       "2     MS392          5063.1550\n",
       "3     MS690          6199.1150\n",
       "4     MS871         26395.5025"
      ]
     },
     "execution_count": 16,
     "metadata": {},
     "output_type": "execute_result"
    }
   ],
   "source": [
    "jacobi"
   ]
  },
  {
   "cell_type": "code",
   "execution_count": 24,
   "id": "fba539a2",
   "metadata": {},
   "outputs": [],
   "source": [
    "jacobi.to_excel('/Users/patrickburke/OneDrive - Emory University/Econ372/Final Project/Bronx/NYC Health + Hospitals : Jacobi/jacobiavg2.xlsx')"
   ]
  },
  {
   "cell_type": "code",
   "execution_count": 18,
   "id": "28e523a2",
   "metadata": {},
   "outputs": [
    {
     "data": {
      "text/html": [
       "<div>\n",
       "<style scoped>\n",
       "    .dataframe tbody tr th:only-of-type {\n",
       "        vertical-align: middle;\n",
       "    }\n",
       "\n",
       "    .dataframe tbody tr th {\n",
       "        vertical-align: top;\n",
       "    }\n",
       "\n",
       "    .dataframe thead th {\n",
       "        text-align: right;\n",
       "    }\n",
       "</style>\n",
       "<table border=\"1\" class=\"dataframe\">\n",
       "  <thead>\n",
       "    <tr style=\"text-align: right;\">\n",
       "      <th></th>\n",
       "      <th>Procedure</th>\n",
       "      <th>NegotiatedPayment</th>\n",
       "    </tr>\n",
       "  </thead>\n",
       "  <tbody>\n",
       "    <tr>\n",
       "      <th>0</th>\n",
       "      <td>MS291</td>\n",
       "      <td>19774.6525</td>\n",
       "    </tr>\n",
       "    <tr>\n",
       "      <th>1</th>\n",
       "      <td>MS312</td>\n",
       "      <td>6941.0400</td>\n",
       "    </tr>\n",
       "    <tr>\n",
       "      <th>2</th>\n",
       "      <td>MS392</td>\n",
       "      <td>5892.3550</td>\n",
       "    </tr>\n",
       "    <tr>\n",
       "      <th>3</th>\n",
       "      <td>MS690</td>\n",
       "      <td>6138.4825</td>\n",
       "    </tr>\n",
       "    <tr>\n",
       "      <th>4</th>\n",
       "      <td>MS871</td>\n",
       "      <td>42161.5900</td>\n",
       "    </tr>\n",
       "  </tbody>\n",
       "</table>\n",
       "</div>"
      ],
      "text/plain": [
       "  Procedure  NegotiatedPayment\n",
       "0     MS291         19774.6525\n",
       "1     MS312          6941.0400\n",
       "2     MS392          5892.3550\n",
       "3     MS690          6138.4825\n",
       "4     MS871         42161.5900"
      ]
     },
     "execution_count": 18,
     "metadata": {},
     "output_type": "execute_result"
    }
   ],
   "source": [
    "NCbronx"
   ]
  },
  {
   "cell_type": "code",
   "execution_count": 25,
   "id": "01d7c81b",
   "metadata": {},
   "outputs": [],
   "source": [
    "NCbronx.to_excel('/Users/patrickburke/OneDrive - Emory University/Econ372/Final Project/Bronx/NYC Health + Hospitals : North Central Bronx/NCbronxavg2.xlsx')"
   ]
  },
  {
   "cell_type": "code",
   "execution_count": 20,
   "id": "404c41aa",
   "metadata": {},
   "outputs": [
    {
     "data": {
      "text/html": [
       "<div>\n",
       "<style scoped>\n",
       "    .dataframe tbody tr th:only-of-type {\n",
       "        vertical-align: middle;\n",
       "    }\n",
       "\n",
       "    .dataframe tbody tr th {\n",
       "        vertical-align: top;\n",
       "    }\n",
       "\n",
       "    .dataframe thead th {\n",
       "        text-align: right;\n",
       "    }\n",
       "</style>\n",
       "<table border=\"1\" class=\"dataframe\">\n",
       "  <thead>\n",
       "    <tr style=\"text-align: right;\">\n",
       "      <th></th>\n",
       "      <th>Procedure</th>\n",
       "      <th>NegotiatedPayment</th>\n",
       "    </tr>\n",
       "  </thead>\n",
       "  <tbody>\n",
       "    <tr>\n",
       "      <th>0</th>\n",
       "      <td>MS291</td>\n",
       "      <td>37764.4800</td>\n",
       "    </tr>\n",
       "    <tr>\n",
       "      <th>1</th>\n",
       "      <td>MS312</td>\n",
       "      <td>6981.4275</td>\n",
       "    </tr>\n",
       "    <tr>\n",
       "      <th>2</th>\n",
       "      <td>MS392</td>\n",
       "      <td>7593.8300</td>\n",
       "    </tr>\n",
       "    <tr>\n",
       "      <th>3</th>\n",
       "      <td>MS690</td>\n",
       "      <td>4967.2600</td>\n",
       "    </tr>\n",
       "    <tr>\n",
       "      <th>4</th>\n",
       "      <td>MS871</td>\n",
       "      <td>20906.7150</td>\n",
       "    </tr>\n",
       "  </tbody>\n",
       "</table>\n",
       "</div>"
      ],
      "text/plain": [
       "  Procedure  NegotiatedPayment\n",
       "0     MS291         37764.4800\n",
       "1     MS312          6981.4275\n",
       "2     MS392          7593.8300\n",
       "3     MS690          4967.2600\n",
       "4     MS871         20906.7150"
      ]
     },
     "execution_count": 20,
     "metadata": {},
     "output_type": "execute_result"
    }
   ],
   "source": [
    "lincoln"
   ]
  },
  {
   "cell_type": "code",
   "execution_count": 26,
   "id": "ef0eb331",
   "metadata": {},
   "outputs": [],
   "source": [
    "lincoln.to_excel('/Users/patrickburke/OneDrive - Emory University/Econ372/Final Project/Bronx/NYC+ Lincoln/LincolnAvg2.xlsx')"
   ]
  },
  {
   "cell_type": "code",
   "execution_count": null,
   "id": "ef80a91f",
   "metadata": {},
   "outputs": [],
   "source": []
  }
 ],
 "metadata": {
  "kernelspec": {
   "display_name": "Python 3 (ipykernel)",
   "language": "python",
   "name": "python3"
  },
  "language_info": {
   "codemirror_mode": {
    "name": "ipython",
    "version": 3
   },
   "file_extension": ".py",
   "mimetype": "text/x-python",
   "name": "python",
   "nbconvert_exporter": "python",
   "pygments_lexer": "ipython3",
   "version": "3.9.7"
  }
 },
 "nbformat": 4,
 "nbformat_minor": 5
}
