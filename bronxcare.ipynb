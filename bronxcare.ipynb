{
 "cells": [
  {
   "cell_type": "code",
   "execution_count": 1,
   "id": "9643be82",
   "metadata": {},
   "outputs": [],
   "source": [
    "# Script name: BronxCare (Bronx-Lebanon) Work\n",
    "# Author: Patrick Burke\n",
    "# Date Created: 4/30/2022\n",
    "# --------------------------\n",
    "# Notes:\n",
    "# ---------------------------\n",
    "\n",
    "# Packages\n",
    "import numpy as np\n",
    "import pandas as pd\n",
    "import statsmodels.api as sm\n",
    "import statsmodels.formula.api as smf\n",
    "from scipy import stats\n",
    "import json"
   ]
  },
  {
   "cell_type": "code",
   "execution_count": 2,
   "id": "6b6704b8",
   "metadata": {
    "scrolled": true
   },
   "outputs": [
    {
     "name": "stderr",
     "output_type": "stream",
     "text": [
      "/Users/patrickburke/opt/anaconda3/lib/python3.9/site-packages/IPython/core/interactiveshell.py:3444: DtypeWarning: Columns (0,1,5,6,7) have mixed types.Specify dtype option on import or set low_memory=False.\n",
      "  exec(code_obj, self.user_global_ns, self.user_ns)\n"
     ]
    }
   ],
   "source": [
    "# BRONXCARE\n",
    "\n",
    "bronxcare = pd.read_csv('/Users/patrickburke/OneDrive - Emory University/Econ372/Final Project/Bronx/BronxCare:Bronx-Lebanon/bronxcareGformat.csv')"
   ]
  },
  {
   "cell_type": "code",
   "execution_count": 3,
   "id": "10e3cade",
   "metadata": {},
   "outputs": [],
   "source": [
    "bronxcare = bronxcare[bronxcare['CDM#']=='MS DRG']\n",
    "bronxcare['RevCode'] = pd.to_numeric(bronxcare['RevCode'])\n",
    "DRG_list = [291, 312, 392, 690, 871]\n",
    "bronxcare = bronxcare[bronxcare['RevCode'].isin(DRG_list)]"
   ]
  },
  {
   "cell_type": "code",
   "execution_count": 4,
   "id": "8990e4cb",
   "metadata": {},
   "outputs": [],
   "source": [
    "bronxcare = bronxcare[['RevCode','AETNA COMMERCIAL C01',\\\n",
    "                        'EMBLEMHEALTH  COMMERCIAL  CG2','UNITEDHEALTHCARE COMMERCIAL CDG',\\\n",
    "                           'LOCAL 1199 COMMERCIAL INPATIENT C51']]"
   ]
  },
  {
   "cell_type": "code",
   "execution_count": 5,
   "id": "f53b8622",
   "metadata": {},
   "outputs": [
    {
     "name": "stderr",
     "output_type": "stream",
     "text": [
      "/var/folders/fm/gcl3hqzd4ws6jd6kbrxyt48c0000gn/T/ipykernel_35345/644811878.py:3: FutureWarning: The default value of regex will change from True to False in a future version. In addition, single character regular expressions will *not* be treated as literal strings when regex=True.\n",
      "  bronxcare = bronxcare.apply(lambda x: x.str.replace('$','').astype(float), axis=1)\n"
     ]
    }
   ],
   "source": [
    "bronxcare = bronxcare.set_index(['RevCode'])\n",
    "bronxcare = bronxcare.apply(lambda x: x.str.replace(',', ''))\n",
    "bronxcare = bronxcare.apply(lambda x: x.str.replace('$','').astype(float), axis=1)\n",
    "bronxcare = bronxcare.mean(axis=1)\n",
    "bronxcare = pd.DataFrame(bronxcare)"
   ]
  },
  {
   "cell_type": "code",
   "execution_count": 6,
   "id": "3eced15d",
   "metadata": {},
   "outputs": [
    {
     "data": {
      "text/html": [
       "<div>\n",
       "<style scoped>\n",
       "    .dataframe tbody tr th:only-of-type {\n",
       "        vertical-align: middle;\n",
       "    }\n",
       "\n",
       "    .dataframe tbody tr th {\n",
       "        vertical-align: top;\n",
       "    }\n",
       "\n",
       "    .dataframe thead th {\n",
       "        text-align: right;\n",
       "    }\n",
       "</style>\n",
       "<table border=\"1\" class=\"dataframe\">\n",
       "  <thead>\n",
       "    <tr style=\"text-align: right;\">\n",
       "      <th></th>\n",
       "      <th>0</th>\n",
       "    </tr>\n",
       "    <tr>\n",
       "      <th>RevCode</th>\n",
       "      <th></th>\n",
       "    </tr>\n",
       "  </thead>\n",
       "  <tbody>\n",
       "    <tr>\n",
       "      <th>291</th>\n",
       "      <td>16273.7975</td>\n",
       "    </tr>\n",
       "    <tr>\n",
       "      <th>312</th>\n",
       "      <td>10160.6550</td>\n",
       "    </tr>\n",
       "    <tr>\n",
       "      <th>392</th>\n",
       "      <td>9277.1200</td>\n",
       "    </tr>\n",
       "    <tr>\n",
       "      <th>690</th>\n",
       "      <td>9614.5150</td>\n",
       "    </tr>\n",
       "    <tr>\n",
       "      <th>871</th>\n",
       "      <td>22673.3625</td>\n",
       "    </tr>\n",
       "  </tbody>\n",
       "</table>\n",
       "</div>"
      ],
      "text/plain": [
       "                  0\n",
       "RevCode            \n",
       "291      16273.7975\n",
       "312      10160.6550\n",
       "392       9277.1200\n",
       "690       9614.5150\n",
       "871      22673.3625"
      ]
     },
     "execution_count": 6,
     "metadata": {},
     "output_type": "execute_result"
    }
   ],
   "source": [
    "bronxcare"
   ]
  },
  {
   "cell_type": "code",
   "execution_count": 9,
   "id": "d26a571c",
   "metadata": {},
   "outputs": [],
   "source": [
    "bronxcare.to_excel('/Users/patrickburke/OneDrive - Emory University/Econ372/Final Project/Bronx/BronxCare:Bronx-Lebanon/bronxcare_avg2.xlsx')"
   ]
  }
 ],
 "metadata": {
  "kernelspec": {
   "display_name": "Python 3 (ipykernel)",
   "language": "python",
   "name": "python3"
  },
  "language_info": {
   "codemirror_mode": {
    "name": "ipython",
    "version": 3
   },
   "file_extension": ".py",
   "mimetype": "text/x-python",
   "name": "python",
   "nbconvert_exporter": "python",
   "pygments_lexer": "ipython3",
   "version": "3.9.7"
  }
 },
 "nbformat": 4,
 "nbformat_minor": 5
}
